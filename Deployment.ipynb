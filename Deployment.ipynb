{
 "cells": [
  {
   "attachments": {},
   "cell_type": "markdown",
   "id": "83d4586f",
   "metadata": {},
   "source": [
    "## Gradio Deployement"
   ]
  },
  {
   "cell_type": "code",
   "execution_count": 1,
   "id": "dfdce8d2",
   "metadata": {},
   "outputs": [
    {
     "name": "stdout",
     "output_type": "stream",
     "text": [
      "Running on local URL:  http://127.0.0.1:7860\n",
      "\n",
      "To create a public link, set `share=True` in `launch()`.\n"
     ]
    },
    {
     "data": {
      "text/html": [
       "<div><iframe src=\"http://127.0.0.1:7860/\" width=\"100%\" height=\"500\" allow=\"autoplay; camera; microphone; clipboard-read; clipboard-write;\" frameborder=\"0\" allowfullscreen></iframe></div>"
      ],
      "text/plain": [
       "<IPython.core.display.HTML object>"
      ]
     },
     "metadata": {},
     "output_type": "display_data"
    },
    {
     "data": {
      "text/plain": []
     },
     "execution_count": 1,
     "metadata": {},
     "output_type": "execute_result"
    },
    {
     "name": "stderr",
     "output_type": "stream",
     "text": [
      "[W NNPACK.cpp:64] Could not initialize NNPACK! Reason: Unsupported hardware.\n"
     ]
    }
   ],
   "source": [
    "import numpy as np\n",
    "import pandas as pd\n",
    "import cv2\n",
    "import torch\n",
    "from torchvision import transforms\n",
    "import gradio as gr\n",
    "\n",
    "#Define Transforms to be applied to input image\n",
    "image_transforms = transforms.Compose([\n",
    "    transforms.ToTensor(),\n",
    "    transforms.Normalize([0.485, 0.456, 0.406], [0.229, 0.224, 0.225])\n",
    "])\n",
    "\n",
    "#identify device available\n",
    "device = torch.device(\"cuda\" if torch.cuda.is_available() else \"cpu\") \n",
    "\n",
    "#Image Size\n",
    "IMAGE_SIZE = (224,224)\n",
    "\n",
    "#set the saved Model path\n",
    "modelpath = 'deeplabv3resnet101_ep42_valscore0.753.pth'\n",
    "#Load Model\n",
    "model = torch.load(modelpath,map_location=torch.device(device))\n",
    "#Set in Eval mode\n",
    "model.eval()\n",
    "\n",
    "#Define function the creates the predictions and converts as binary image to be displayed as output\n",
    "def predict(image):\n",
    "    image = cv2.resize(image,IMAGE_SIZE)\n",
    "    image = image_transforms(image).unsqueeze(0).to(device)\n",
    "    \n",
    "    with torch.no_grad():\n",
    "        generatemask = model(image)['out']\n",
    "        prediction = np.squeeze(generatemask.cpu().numpy())\n",
    "        threshold = 0.5\n",
    "        binary_mask = (prediction >= threshold).astype(np.uint8) * 255\n",
    "        binary_image = cv2.cvtColor(binary_mask, cv2.COLOR_GRAY2BGR)\n",
    "       \n",
    "    return binary_image\n",
    "\n",
    "#Create the Gradio UI\n",
    "\n",
    "title = '<u>Car Scratch Detection using Binary Mask</u>'\n",
    "description='<h4>Car Scratch Detection using a tuned pretained DeepLabV3 model</h4> <h4>Upload a car picture</h4>'\n",
    "demo = gr.Interface(fn=predict,title=title, description=description, inputs=gr.Image(shape=(224, 224)),outputs=gr.Image(shape=(224, 224),label=\"Predicted Mask\"),allow_flagging='never')\n",
    "\n",
    "#launch the web app\n",
    "demo.launch()"
   ]
  },
  {
   "cell_type": "code",
   "execution_count": null,
   "id": "b7e5e273",
   "metadata": {},
   "outputs": [],
   "source": []
  }
 ],
 "metadata": {
  "kernelspec": {
   "display_name": "Python 3 (ipykernel)",
   "language": "python",
   "name": "python3"
  },
  "language_info": {
   "codemirror_mode": {
    "name": "ipython",
    "version": 3
   },
   "file_extension": ".py",
   "mimetype": "text/x-python",
   "name": "python",
   "nbconvert_exporter": "python",
   "pygments_lexer": "ipython3",
   "version": "3.9.7"
  }
 },
 "nbformat": 4,
 "nbformat_minor": 5
}
